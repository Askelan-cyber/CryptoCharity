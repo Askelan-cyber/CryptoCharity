{
 "cells": [
  {
   "cell_type": "code",
   "execution_count": 1,
   "metadata": {},
   "outputs": [],
   "source": [
    "from web3.auto import w3\n",
    "import json\n",
    "import os\n",
    "from dotenv import load_dotenv\n",
    "import crypto_charity\n",
    "from pprint import pprint"
   ]
  },
  {
   "cell_type": "code",
   "execution_count": 2,
   "metadata": {},
   "outputs": [
    {
     "data": {
      "text/plain": [
       "True"
      ]
     },
     "execution_count": 2,
     "metadata": {},
     "output_type": "execute_result"
    }
   ],
   "source": [
    "load_dotenv()"
   ]
  },
  {
   "cell_type": "code",
   "execution_count": 3,
   "metadata": {},
   "outputs": [
    {
     "data": {
      "text/plain": [
       "'0xFFF4f41b1d560e982605b340634D1A4CE489Ca92'"
      ]
     },
     "execution_count": 3,
     "metadata": {},
     "output_type": "execute_result"
    }
   ],
   "source": [
    "os.getenv(\"CHARITY_MAKER_ADDRESS\")"
   ]
  },
  {
   "cell_type": "code",
   "execution_count": 4,
   "metadata": {},
   "outputs": [],
   "source": [
    "def init_contract(abi_path: str, contract_address: str):\n",
    "    \"\"\" Initialize a contract given the abi and address \"\"\"\n",
    "    with open(abi_path) as json_file:\n",
    "        abi = json.load(json_file)\n",
    "    return w3.eth.contract(address=contract_address, abi=abi)"
   ]
  },
  {
   "cell_type": "code",
   "execution_count": 5,
   "metadata": {},
   "outputs": [],
   "source": [
    "charity_contract = init_contract(\"CharityMakerABI.json\", os.getenv(\"CHARITY_MAKER_ADDRESS\"))"
   ]
  },
  {
   "cell_type": "code",
   "execution_count": 6,
   "metadata": {},
   "outputs": [],
   "source": [
    "def register_charity_event():\n",
    "    # Need to have checks for each input\n",
    "\n",
    "    event_name = input(\"Name of Charity Event: \")\n",
    "    event_recipient = input(\"Enter Recipient address: \")\n",
    "    funding_goal = input(\"Goal amount for this event: \")\n",
    "    start_date = input(\"Start date for this event(YYYY/MM/DD): \")\n",
    "    end_date = input(\"End date for this event(YYYY/MM/DD): \")\n",
    "\n",
    "    return crypto_charity.register_charity_event(event_name, event_recipient, funding_goal, start_date, end_date)\n"
   ]
  },
  {
   "cell_type": "code",
   "execution_count": 7,
   "metadata": {},
   "outputs": [],
   "source": [
    "def add_admin():\n",
    "    admin_address = input(\"Enter admin address:\")\n",
    "    admin_verification = input(\"Does this address meet all the necessary criteria to have admin privileges?\")\n",
    "    if admin_verification == \"yes\":\n",
    "        return crypto_charity.update_admins(admin_address, True)\n",
    "    \n",
    "    elif admin_verification == \"no\":\n",
    "        return crypto_charity.update_admins(admin_address, False)\n"
   ]
  },
  {
   "cell_type": "code",
   "execution_count": 8,
   "metadata": {},
   "outputs": [],
   "source": [
    " def update_charity_event_approval():\n",
    "    # verification needs to be more sophisticated\n",
    "\n",
    "    charity_event_id = int(input(\"What is the charity id?\"))\n",
    "    verification = input(\"Does the event meet all the necessary requirements?\")\n",
    "    if verification == \"Yes\" or \"yes\" or \"y\" or \"Y\":\n",
    "        is_approved = True\n",
    "    elif verification == \"No\" or \"no\" or \"N\" or \"n\":\n",
    "        is_approved = False\n",
    "\n",
    "    return crypto_charity.update_charity_event_approval(charity_event_id, is_approved)"
   ]
  },
  {
   "cell_type": "code",
   "execution_count": 9,
   "metadata": {},
   "outputs": [],
   "source": [
    "def donate():\n",
    "    event_id = int(input(\"Please enter charity event id:\"))\n",
    "    amount = input(\"Donation amount:\")\n",
    "    donor_name = input(\"Enter your name (Optional):\")\n",
    "    if donor_name == \" \":\n",
    "        return donor_name == \"anonymous\"\n",
    "\n",
    "    return crypto_charity.donate(event_id, amount, donor_name)\n"
   ]
  },
  {
   "cell_type": "code",
   "execution_count": 10,
   "metadata": {},
   "outputs": [],
   "source": [
    "def view_total_donations():\n",
    "    charity_event_id = int(input(\"Please enter charity event id:\"))\n",
    "    view_all_donations = crypto_charity.get_total_donations(charity_event_id)\n",
    "    pprint(view_all_donations)"
   ]
  },
  {
   "cell_type": "code",
   "execution_count": 11,
   "metadata": {},
   "outputs": [],
   "source": [
    "def view_individual_donations():\n",
    "    charity_event_id = int(input(\"Please enter charity event id or 0 for all:\"))\n",
    "    if charity_event_id == 0:\n",
    "        donations = charity_contract.events.Donate.createFilter(fromBlock=\"0x0\")\n",
    "        donations_filter = donations.get_all_entries()\n",
    "\n",
    "    else:\n",
    "        donations = charity_contract.events.Donate.createFilter(fromBlock=\"0x0\", argument_filters={\"charityEventID\": charity_event_id})\n",
    "        donations_filter = donations.get_all_entries()\n",
    "        \n",
    "    donations_list = []\n",
    "    for donation in donations_filter:\n",
    "        donations_list.append(crypto_charity.toDict(donation))\n",
    "    \n",
    "    \n",
    "    for donation in donations_list:\n",
    "         pprint(donation['args'])\n",
    " \n",
    " #event Donate(\n",
    "  #      string donorName,\n",
    "   #     uint donorAmount,\n",
    "    #    uint charityEventID\n",
    "         \n"
   ]
  },
  {
   "cell_type": "code",
   "execution_count": 12,
   "metadata": {},
   "outputs": [],
   "source": [
    "def view_charity_event_info():\n",
    "    charity_event_id = int(input(\"Please enter the charity event id that you would like information on?\"))\n",
    "    view_event_info = crypto_charity.get_charity_event(charity_event_id)\n",
    "    pprint(view_event_info)\n",
    "    return view_event_info"
   ]
  },
  {
   "cell_type": "code",
   "execution_count": 13,
   "metadata": {},
   "outputs": [],
   "source": [
    "def cancel_charity_event():\n",
    "    charity_event_id = int(input(\"Please enter the event id of the charity event you wish to cancel:\"))\n",
    "    confirmation = input(\"Are you sure you wish to cancel this event?\")\n",
    "    if confirmation == \"yes\" or \"y\" or \"Y\" or \"Yes\":\n",
    "        return crypto_charity.update_charity_event_approval(charity_event_id, False)\n",
    "\n",
    "    elif confirmation == \"no\" or \"n\" or \"N\" or \"No\":\n",
    "        return charity_admin_menu()"
   ]
  },
  {
   "cell_type": "code",
   "execution_count": null,
   "metadata": {},
   "outputs": [],
   "source": [
    "def donor_menu():\n",
    "    donor_menu_options = input(\"What would you like to do? (View Charity Event Information, Donate, View Donations)\")\n",
    "    \n",
    "    if donor_menu_options == \"View Charity Event Information\":\n",
    "        return view_charity_event_info()\n",
    "    \n",
    "    elif donor_menu_options == \"Donate\":\n",
    "        return donate()\n",
    "    \n",
    "    elif donor_menu_options == \"View Donations\":\n",
    "        view_donation_options = input(\"Would you like to see total donations for an event or see each individual donation?\")\n",
    "        \n",
    "        if view_donation_options == \"see total donations\"\n",
    "            return view_total_donations()\n",
    "        \n",
    "        elif view_donation_options == \"see each individual donation\"\n",
    "            return view_individual_donations()"
   ]
  },
  {
   "cell_type": "code",
   "execution_count": null,
   "metadata": {},
   "outputs": [],
   "source": [
    "def charity_admin_menu():\n",
    "    admin_menu_options = input(\"What would you like to do? (Update Charity Event, Cancel Charity Event, Register Charity Event, Update Administrator)\")\n",
    "    \n",
    "    if admin_menu_options == \"Update Charity Event Approval\":\n",
    "        return update_charity_event_approval()\n",
    "    \n",
    "    elif admin_menu_options == \"Cancel Charity Event\":\n",
    "        return cancel_charity_event()\n",
    "    \n",
    "    elif admin_menu_options == \"Register Charity Event\":\n",
    "        return register_charity_event()\n",
    "    \n",
    "    elif admin_menu_options == \"Update Administrator\":\n",
    "        return add_admin()"
   ]
  },
  {
   "cell_type": "code",
   "execution_count": null,
   "metadata": {},
   "outputs": [
    {
     "name": "stdin",
     "output_type": "stream",
     "text": [
      "What would you like to do? Options are: Register Charity Event, Update Approval Status, Donate, View Donations, View Charity Events, Cancel Charity Event View Donations\n",
      "Please enter charity event id or 0 for all: 1\n"
     ]
    },
    {
     "name": "stdout",
     "output_type": "stream",
     "text": [
      "{'charityEventID': 1, 'donorAmount': 32, 'donorName': 'Hector'}\n",
      "{'charityEventID': 1, 'donorAmount': 2199023255552, 'donorName': 'Hector'}\n"
     ]
    }
   ],
   "source": [
    "main_menu == input(\"Are you a donor, benefactor, or charity event administrator?\")\n",
    "\n",
    "if main_menu == \"benefactor\" or \"Benefactor\":\n",
    "    view_total_donations()\n",
    "\n",
    "elif main_menu == \"donor\" or \"Donor\":\n",
    "    donor_menu()\n",
    "    \n",
    "elif main_menu == \"Charity event administrator\" or \"charity event administrator\":\n",
    "    chairity_admin_menu()"
   ]
  },
  {
   "cell_type": "code",
   "execution_count": null,
   "metadata": {},
   "outputs": [],
   "source": [
    "def view_list_charity_events():\n",
    "    view_options = input(\"Would you like to see all currently active charity events or all past events?\")\n",
    "    if view_options == \"See all active charity events\":\n",
    "        # search blockchain for all distinct charity event where end date > now and isApproved = True\n",
    "\n",
    "    elif view_options == \"See past charity events that have passed\":\n",
    "        #  search blockchain for all distinct charity event where end date < now and isApproved = True\n"
   ]
  },
  {
   "cell_type": "code",
   "execution_count": 14,
   "metadata": {},
   "outputs": [
    {
     "data": {
      "text/plain": [
       "'0x95a3D7E8083cdB29fEeA764BCcf22f5325Bbd47d'"
      ]
     },
     "execution_count": 14,
     "metadata": {},
     "output_type": "execute_result"
    }
   ],
   "source": [
    "def view_top_donations():\n",
    "    \n",
    "    top_donations = charity_contract.events.Donate.createFilter(fromBlock=\"0x0\",\n",
    "                                                                argument_filters={\"charityEventID\": charity_event_id})\n",
    "    top_donations_filter = top_donations.get_all_entries()\n",
    "\n",
    "        # loop through solidity returned list of objects and convert to list of dicts\n",
    "    top_donations_list = []\n",
    "    for top_donation in top_donations_filter:\n",
    "        top_donations_list.append(toDict(top_donation))\n",
    "\n",
    "        # loop through donations_list and add up donorAmount from each donation\n",
    "    top_total_donations = 0\n",
    "    for top_donation in top_donations_list:\n",
    "        top_total_donations += top_donation['args']['donorAmount']\n",
    "        sorted_top_total_donations = sorted(top_total_donations)\n",
    "    return sorted_top_total_donations[5:]"
   ]
  },
  {
   "cell_type": "code",
   "execution_count": null,
   "metadata": {},
   "outputs": [],
   "source": [
    "# first input who are you donor, charity, recipient\n",
    "# donor interface\n",
    "    # view active events\n",
    "    # donate, view donations\n",
    "# charity inteface\n",
    "    # update charity event, delete charity event, register charity event,  update admin\n",
    "# recipient interface \n",
    "    # view donation"
   ]
  }
 ],
 "metadata": {
  "kernelspec": {
   "display_name": "Python 3",
   "language": "python",
   "name": "python3"
  },
  "language_info": {
   "codemirror_mode": {
    "name": "ipython",
    "version": 3
   },
   "file_extension": ".py",
   "mimetype": "text/x-python",
   "name": "python",
   "nbconvert_exporter": "python",
   "pygments_lexer": "ipython3",
   "version": "3.7.7"
  }
 },
 "nbformat": 4,
 "nbformat_minor": 4
}
