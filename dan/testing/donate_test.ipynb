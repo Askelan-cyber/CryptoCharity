{
 "cells": [
  {
   "cell_type": "code",
   "execution_count": 1,
   "metadata": {},
   "outputs": [
    {
     "name": "stderr",
     "output_type": "stream",
     "text": [
      "Consider installing rusty-rlp to improve pyrlp performance with a rust based backend\n"
     ]
    },
    {
     "data": {
      "text/plain": [
       "True"
      ]
     },
     "execution_count": 1,
     "metadata": {},
     "output_type": "execute_result"
    }
   ],
   "source": [
    "from logging import error\n",
    "from web3.auto import w3\n",
    "import json\n",
    "import requests\n",
    "import os\n",
    "from dotenv import load_dotenv\n",
    "from datetime import datetime as dt\n",
    "\n",
    "load_dotenv()\n"
   ]
  },
  {
   "cell_type": "code",
   "execution_count": 2,
   "metadata": {},
   "outputs": [],
   "source": [
    "def init_contract(abi_path:str, contract_address:str):\n",
    "    \"\"\" Initialize a contract given the abi and address \"\"\"\n",
    "    with open(abi_path) as json_file:\n",
    "        abi = json.load(json_file)\n",
    "    return w3.eth.contract(address=contract_address, abi=abi)\n",
    "\n"
   ]
  },
  {
   "cell_type": "code",
   "execution_count": 3,
   "metadata": {},
   "outputs": [],
   "source": [
    "charity_contract = init_contract(\"CharityMakerABI.json\", os.getenv(\"CHARITY_MAKER_ADDRESS\"))"
   ]
  },
  {
   "cell_type": "code",
   "execution_count": 4,
   "metadata": {},
   "outputs": [],
   "source": [
    "headers = {\n",
    "    \"Content-Type\": \"application/json\",\n",
    "    \"pinata_api_key\": os.getenv(\"PINATA_API_KEY\"),\n",
    "    \"pinata_secret_api_key\": os.getenv(\"PINATA_SECRET_API_KEY\"),\n",
    "}"
   ]
  },
  {
   "cell_type": "code",
   "execution_count": 5,
   "metadata": {},
   "outputs": [],
   "source": [
    "def convertDataToJSON(content:dict):\n",
    "    data = {\n",
    "        \"pinataOptions\": {\"cidVersion\": 1},\n",
    "        \"pinataContent\": content,\n",
    "    }\n",
    "    return json.dumps(data)\n",
    "\n",
    "def pinJSONtoIPFS(json):\n",
    "    req = requests.post(\n",
    "        \"https://api.pinata.cloud/pinning/pinJSONToIPFS\", data=json, headers=headers\n",
    "    )\n",
    "    ipfs_hash = req.json()[\"IpfsHash\"]\n",
    "    return f\"ipfs://{ipfs_hash}\"\n"
   ]
  },
  {
   "cell_type": "code",
   "execution_count": 8,
   "metadata": {},
   "outputs": [],
   "source": [
    "def toDict(dictToParse):\n",
    "    # convert any 'AttributeDict' type found to 'dict'\n",
    "    parsedDict = dict(dictToParse)\n",
    "    for key, val in parsedDict.items():\n",
    "        # check for nested dict structures to iterate through\n",
    "        if  'dict' in str(type(val)).lower():\n",
    "            parsedDict[key] = toDict(val)\n",
    "        # convert 'HexBytes' type to 'str'\n",
    "        elif 'HexBytes' in str(type(val)):\n",
    "            parsedDict[key] = val.hex()\n",
    "    return parsedDict\n",
    "\n",
    "def get_charityEventID_from_URI(event_URI: str):\n",
    "    charity_event_reg_filter = charity_contract.events.charityEventRegistration.createFilter(fromBlock=\"0x0\", argument_filters={\"URI\": event_URI})\n",
    "    charity_event_registrations = charity_event_reg_filter.get_all_entries()\n",
    "    charity_event_registrations_dict = toDict(charity_event_registrations[0])\n",
    "    return charity_event_registrations_dict['args']['TestEventID']\n",
    "\n",
    "def register_charity_event(event_name: str, event_recipient: str, funding_goal: int, start_date, end_date):\n",
    "\n",
    "    # convert string start and end dates to datetime (if they aren't already datetime objects)\n",
    "    if not isinstance(start_date, dt):\n",
    "        start_date = dt.strptime(start_date, \"%Y/%m/%d\")  # 2020/01/26\n",
    "    if not isinstance(end_date, dt):\n",
    "        end_date = dt.strptime(end_date, \"%Y/%m/%d\")\n",
    "\n",
    "    # check if start_date is in the past and if so make the start_date today instead\n",
    "    # today = dt.strptime(dt.now(), \"%Y/%m/%d\")\n",
    "    today = dt.now()\n",
    "    if start_date < today:\n",
    "        start_date = today\n",
    "    \n",
    "    # check if end date is after start_date and return error if not\n",
    "    if start_date > end_date:\n",
    "        return error(f\"Error: End Date {end_date} is before Start Date {start_date}\")\n",
    "\n",
    "    # convert start and end datetimes to to unix timestamps\n",
    "    start_date = int(start_date.timestamp())\n",
    "    end_date = int(end_date.timestamp())\n",
    "\n",
    "    # create charity_info dict\n",
    "    charity_info = {\n",
    "        \"charityEventName\" : event_name,\n",
    "        # charityEventRecipient: event_recipient,\n",
    "        \"goalAmount\" : funding_goal\n",
    "    }\n",
    "\n",
    "    # convert charity_info to json_charity_info (json format) and pin to IPFS via pinata api function\n",
    "    json_charity_info = convertDataToJSON(charity_info)\n",
    "    ipfs_link = pinJSONtoIPFS(json_charity_info)\n",
    "\n",
    "    # create charity event in the block chain\n",
    "    tx_hash = charity_contract.functions.registerCharityEvent(event_recipient, start_date, end_date, ipfs_link).transact({\"from\": w3.eth.accounts[0]})\n",
    "    receipt  = w3.eth.waitForTransactionReceipt(tx_hash)\n",
    "    \n",
    "    # function registerCharityEvent(\n",
    "    #     address payable _charityEventAddress,\n",
    "    #     uint _startDate,\n",
    "    #     uint _endDate,\n",
    "    #     string memory _URI\n",
    "\n",
    "    \n",
    "    # lookup registerCharityEvent events, filtering by the newly created ipfs_link (URI) to cross reference and return the newly generated charity event id\n",
    "    charity_event_id = get_charityEventID_from_URI(ipfs_link)\n",
    "\n",
    "    return charity_event_id\n"
   ]
  },
  {
   "cell_type": "code",
   "execution_count": null,
   "metadata": {},
   "outputs": [],
   "source": []
  },
  {
   "cell_type": "code",
   "execution_count": 9,
   "metadata": {},
   "outputs": [
    {
     "ename": "KeyError",
     "evalue": "'URI'",
     "output_type": "error",
     "traceback": [
      "\u001b[1;31m---------------------------------------------------------------------------\u001b[0m",
      "\u001b[1;31mKeyError\u001b[0m                                  Traceback (most recent call last)",
      "\u001b[1;32m<ipython-input-9-d1417de13185>\u001b[0m in \u001b[0;36m<module>\u001b[1;34m\u001b[0m\n\u001b[0;32m      1\u001b[0m \u001b[1;31m# test register charity\u001b[0m\u001b[1;33m\u001b[0m\u001b[1;33m\u001b[0m\u001b[1;33m\u001b[0m\u001b[0m\n\u001b[1;32m----> 2\u001b[1;33m \u001b[0mevent_id\u001b[0m \u001b[1;33m=\u001b[0m \u001b[0mregister_charity_event\u001b[0m\u001b[1;33m(\u001b[0m\u001b[1;34m\"Dan's best charity#2\"\u001b[0m\u001b[1;33m,\u001b[0m \u001b[1;34m\"0x6b36C3CBFcD41C747305e540266AEe5a867f948A\"\u001b[0m\u001b[1;33m,\u001b[0m \u001b[1;36m100\u001b[0m\u001b[1;33m,\u001b[0m \u001b[1;34m\"2020/11/15\"\u001b[0m\u001b[1;33m,\u001b[0m \u001b[1;34m\"2021/11/15\"\u001b[0m\u001b[1;33m)\u001b[0m\u001b[1;33m\u001b[0m\u001b[1;33m\u001b[0m\u001b[0m\n\u001b[0m",
      "\u001b[1;32m<ipython-input-8-cd564a62a804>\u001b[0m in \u001b[0;36mregister_charity_event\u001b[1;34m(event_name, event_recipient, funding_goal, start_date, end_date)\u001b[0m\n\u001b[0;32m     62\u001b[0m \u001b[1;33m\u001b[0m\u001b[0m\n\u001b[0;32m     63\u001b[0m     \u001b[1;31m# lookup registerCharityEvent events, filtering by the newly created ipfs_link (URI) to cross reference and return the newly generated charity event id\u001b[0m\u001b[1;33m\u001b[0m\u001b[1;33m\u001b[0m\u001b[1;33m\u001b[0m\u001b[0m\n\u001b[1;32m---> 64\u001b[1;33m     \u001b[0mcharity_event_id\u001b[0m \u001b[1;33m=\u001b[0m \u001b[0mget_charityEventID_from_URI\u001b[0m\u001b[1;33m(\u001b[0m\u001b[0mipfs_link\u001b[0m\u001b[1;33m)\u001b[0m\u001b[1;33m\u001b[0m\u001b[1;33m\u001b[0m\u001b[0m\n\u001b[0m\u001b[0;32m     65\u001b[0m \u001b[1;33m\u001b[0m\u001b[0m\n\u001b[0;32m     66\u001b[0m     \u001b[1;32mreturn\u001b[0m \u001b[0mcharity_event_id\u001b[0m\u001b[1;33m\u001b[0m\u001b[1;33m\u001b[0m\u001b[0m\n",
      "\u001b[1;32m<ipython-input-8-cd564a62a804>\u001b[0m in \u001b[0;36mget_charityEventID_from_URI\u001b[1;34m(event_URI)\u001b[0m\n\u001b[0;32m     12\u001b[0m \u001b[1;33m\u001b[0m\u001b[0m\n\u001b[0;32m     13\u001b[0m \u001b[1;32mdef\u001b[0m \u001b[0mget_charityEventID_from_URI\u001b[0m\u001b[1;33m(\u001b[0m\u001b[0mevent_URI\u001b[0m\u001b[1;33m:\u001b[0m \u001b[0mstr\u001b[0m\u001b[1;33m)\u001b[0m\u001b[1;33m:\u001b[0m\u001b[1;33m\u001b[0m\u001b[1;33m\u001b[0m\u001b[0m\n\u001b[1;32m---> 14\u001b[1;33m     \u001b[0mcharity_event_reg_filter\u001b[0m \u001b[1;33m=\u001b[0m \u001b[0mcharity_contract\u001b[0m\u001b[1;33m.\u001b[0m\u001b[0mevents\u001b[0m\u001b[1;33m.\u001b[0m\u001b[0mcharityEventRegistration\u001b[0m\u001b[1;33m.\u001b[0m\u001b[0mcreateFilter\u001b[0m\u001b[1;33m(\u001b[0m\u001b[0mfromBlock\u001b[0m\u001b[1;33m=\u001b[0m\u001b[1;34m\"0x0\"\u001b[0m\u001b[1;33m,\u001b[0m \u001b[0margument_filters\u001b[0m\u001b[1;33m=\u001b[0m\u001b[1;33m{\u001b[0m\u001b[1;34m\"URI\"\u001b[0m\u001b[1;33m:\u001b[0m \u001b[0mevent_URI\u001b[0m\u001b[1;33m}\u001b[0m\u001b[1;33m)\u001b[0m\u001b[1;33m\u001b[0m\u001b[1;33m\u001b[0m\u001b[0m\n\u001b[0m\u001b[0;32m     15\u001b[0m     \u001b[0mcharity_event_registrations\u001b[0m \u001b[1;33m=\u001b[0m \u001b[0mcharity_event_reg_filter\u001b[0m\u001b[1;33m.\u001b[0m\u001b[0mget_all_entries\u001b[0m\u001b[1;33m(\u001b[0m\u001b[1;33m)\u001b[0m\u001b[1;33m\u001b[0m\u001b[1;33m\u001b[0m\u001b[0m\n\u001b[0;32m     16\u001b[0m     \u001b[0mcharity_event_registrations_dict\u001b[0m \u001b[1;33m=\u001b[0m \u001b[0mtoDict\u001b[0m\u001b[1;33m(\u001b[0m\u001b[0mcharity_event_registrations\u001b[0m\u001b[1;33m[\u001b[0m\u001b[1;36m0\u001b[0m\u001b[1;33m]\u001b[0m\u001b[1;33m)\u001b[0m\u001b[1;33m\u001b[0m\u001b[1;33m\u001b[0m\u001b[0m\n",
      "\u001b[1;32m~\\anaconda3\\envs\\ethereum\\lib\\site-packages\\eth_utils\\decorators.py\u001b[0m in \u001b[0;36m_wrapper\u001b[1;34m(*args, **kwargs)\u001b[0m\n\u001b[0;32m     18\u001b[0m                 \u001b[1;32mreturn\u001b[0m \u001b[0mself\u001b[0m\u001b[1;33m.\u001b[0m\u001b[0mmethod\u001b[0m\u001b[1;33m(\u001b[0m\u001b[0mobj\u001b[0m\u001b[1;33m,\u001b[0m \u001b[1;33m*\u001b[0m\u001b[0margs\u001b[0m\u001b[1;33m,\u001b[0m \u001b[1;33m**\u001b[0m\u001b[0mkwargs\u001b[0m\u001b[1;33m)\u001b[0m\u001b[1;33m\u001b[0m\u001b[1;33m\u001b[0m\u001b[0m\n\u001b[0;32m     19\u001b[0m             \u001b[1;32melse\u001b[0m\u001b[1;33m:\u001b[0m\u001b[1;33m\u001b[0m\u001b[1;33m\u001b[0m\u001b[0m\n\u001b[1;32m---> 20\u001b[1;33m                 \u001b[1;32mreturn\u001b[0m \u001b[0mself\u001b[0m\u001b[1;33m.\u001b[0m\u001b[0mmethod\u001b[0m\u001b[1;33m(\u001b[0m\u001b[0mobjtype\u001b[0m\u001b[1;33m,\u001b[0m \u001b[1;33m*\u001b[0m\u001b[0margs\u001b[0m\u001b[1;33m,\u001b[0m \u001b[1;33m**\u001b[0m\u001b[0mkwargs\u001b[0m\u001b[1;33m)\u001b[0m\u001b[1;33m\u001b[0m\u001b[1;33m\u001b[0m\u001b[0m\n\u001b[0m\u001b[0;32m     21\u001b[0m \u001b[1;33m\u001b[0m\u001b[0m\n\u001b[0;32m     22\u001b[0m         \u001b[1;32mreturn\u001b[0m \u001b[0m_wrapper\u001b[0m\u001b[1;33m\u001b[0m\u001b[1;33m\u001b[0m\u001b[0m\n",
      "\u001b[1;32m~\\anaconda3\\envs\\ethereum\\lib\\site-packages\\web3\\contract.py\u001b[0m in \u001b[0;36mcreateFilter\u001b[1;34m(self, argument_filters, fromBlock, toBlock, address, topics)\u001b[0m\n\u001b[0;32m   1194\u001b[0m         \u001b[0mevent_abi\u001b[0m \u001b[1;33m=\u001b[0m \u001b[0mself\u001b[0m\u001b[1;33m.\u001b[0m\u001b[0m_get_event_abi\u001b[0m\u001b[1;33m(\u001b[0m\u001b[1;33m)\u001b[0m\u001b[1;33m\u001b[0m\u001b[1;33m\u001b[0m\u001b[0m\n\u001b[0;32m   1195\u001b[0m \u001b[1;33m\u001b[0m\u001b[0m\n\u001b[1;32m-> 1196\u001b[1;33m         \u001b[0mcheck_for_forbidden_api_filter_arguments\u001b[0m\u001b[1;33m(\u001b[0m\u001b[0mevent_abi\u001b[0m\u001b[1;33m,\u001b[0m \u001b[0m_filters\u001b[0m\u001b[1;33m)\u001b[0m\u001b[1;33m\u001b[0m\u001b[1;33m\u001b[0m\u001b[0m\n\u001b[0m\u001b[0;32m   1197\u001b[0m \u001b[1;33m\u001b[0m\u001b[0m\n\u001b[0;32m   1198\u001b[0m         _, event_filter_params = construct_event_filter_params(\n",
      "\u001b[1;32m~\\anaconda3\\envs\\ethereum\\lib\\site-packages\\web3\\contract.py\u001b[0m in \u001b[0;36mcheck_for_forbidden_api_filter_arguments\u001b[1;34m(event_abi, _filters)\u001b[0m\n\u001b[0;32m   1456\u001b[0m \u001b[1;33m\u001b[0m\u001b[0m\n\u001b[0;32m   1457\u001b[0m     \u001b[1;32mfor\u001b[0m \u001b[0mfilter_name\u001b[0m\u001b[1;33m,\u001b[0m \u001b[0mfilter_value\u001b[0m \u001b[1;32min\u001b[0m \u001b[0m_filters\u001b[0m\u001b[1;33m.\u001b[0m\u001b[0mitems\u001b[0m\u001b[1;33m(\u001b[0m\u001b[1;33m)\u001b[0m\u001b[1;33m:\u001b[0m\u001b[1;33m\u001b[0m\u001b[1;33m\u001b[0m\u001b[0m\n\u001b[1;32m-> 1458\u001b[1;33m         \u001b[0m_input\u001b[0m \u001b[1;33m=\u001b[0m \u001b[0mname_indexed_inputs\u001b[0m\u001b[1;33m[\u001b[0m\u001b[0mfilter_name\u001b[0m\u001b[1;33m]\u001b[0m\u001b[1;33m\u001b[0m\u001b[1;33m\u001b[0m\u001b[0m\n\u001b[0m\u001b[0;32m   1459\u001b[0m         \u001b[1;32mif\u001b[0m \u001b[0mis_array_type\u001b[0m\u001b[1;33m(\u001b[0m\u001b[0m_input\u001b[0m\u001b[1;33m[\u001b[0m\u001b[1;34m'type'\u001b[0m\u001b[1;33m]\u001b[0m\u001b[1;33m)\u001b[0m\u001b[1;33m:\u001b[0m\u001b[1;33m\u001b[0m\u001b[1;33m\u001b[0m\u001b[0m\n\u001b[0;32m   1460\u001b[0m             raise TypeError(\n",
      "\u001b[1;31mKeyError\u001b[0m: 'URI'"
     ]
    }
   ],
   "source": [
    "# test register charity\n",
    "event_id = register_charity_event(\"Dan's best charity#2\", \"0x6b36C3CBFcD41C747305e540266AEe5a867f948A\", 100, \"2020/11/15\", \"2021/11/15\")\n"
   ]
  },
  {
   "cell_type": "code",
   "execution_count": null,
   "metadata": {},
   "outputs": [],
   "source": []
  },
  {
   "cell_type": "code",
   "execution_count": 7,
   "metadata": {},
   "outputs": [],
   "source": [
    "def update_charity_event_approval(charity_event_id: int, is_approved: bool):\n",
    "    # call contract funtion to update approval\n",
    "    tx_hash = charity_contract.functions.updateCharityEventApproval(charity_event_id, is_approved)\\\n",
    "        .transact({\"from\": w3.eth.accounts[0]})\n",
    "\n",
    "    receipt = w3.eth.waitForTransactionReceipt(tx_hash)\n",
    "    return receipt"
   ]
  },
  {
   "cell_type": "code",
   "execution_count": null,
   "metadata": {},
   "outputs": [],
   "source": []
  },
  {
   "cell_type": "code",
   "execution_count": 8,
   "metadata": {},
   "outputs": [
    {
     "ename": "ValueError",
     "evalue": "Please ensure that this contract instance has an address.",
     "output_type": "error",
     "traceback": [
      "\u001b[1;31m---------------------------------------------------------------------------\u001b[0m",
      "\u001b[1;31mValueError\u001b[0m                                Traceback (most recent call last)",
      "\u001b[1;32m<ipython-input-8-9f42d6189897>\u001b[0m in \u001b[0;36m<module>\u001b[1;34m\u001b[0m\n\u001b[0;32m      1\u001b[0m \u001b[1;31m# test update_charity_event_approval\u001b[0m\u001b[1;33m\u001b[0m\u001b[1;33m\u001b[0m\u001b[1;33m\u001b[0m\u001b[0m\n\u001b[1;32m----> 2\u001b[1;33m \u001b[0mupdate_charity_event_approval\u001b[0m\u001b[1;33m(\u001b[0m\u001b[1;36m1\u001b[0m\u001b[1;33m,\u001b[0m \u001b[1;32mFalse\u001b[0m\u001b[1;33m)\u001b[0m\u001b[1;33m\u001b[0m\u001b[1;33m\u001b[0m\u001b[0m\n\u001b[0m",
      "\u001b[1;32m<ipython-input-7-0b6822f1d272>\u001b[0m in \u001b[0;36mupdate_charity_event_approval\u001b[1;34m(charity_event_id, is_approved)\u001b[0m\n\u001b[0;32m      2\u001b[0m     \u001b[1;31m# call contract funtion to update approval\u001b[0m\u001b[1;33m\u001b[0m\u001b[1;33m\u001b[0m\u001b[1;33m\u001b[0m\u001b[0m\n\u001b[0;32m      3\u001b[0m     \u001b[0mtx_hash\u001b[0m \u001b[1;33m=\u001b[0m \u001b[0mcharity_contract\u001b[0m\u001b[1;33m.\u001b[0m\u001b[0mfunctions\u001b[0m\u001b[1;33m.\u001b[0m\u001b[0mupdateCharityEventApproval\u001b[0m\u001b[1;33m(\u001b[0m\u001b[0mcharity_event_id\u001b[0m\u001b[1;33m,\u001b[0m \u001b[0mis_approved\u001b[0m\u001b[1;33m)\u001b[0m\u001b[0;31m\\\u001b[0m\u001b[1;33m\u001b[0m\u001b[1;33m\u001b[0m\u001b[0m\n\u001b[1;32m----> 4\u001b[1;33m         \u001b[1;33m.\u001b[0m\u001b[0mtransact\u001b[0m\u001b[1;33m(\u001b[0m\u001b[1;33m{\u001b[0m\u001b[1;34m\"from\"\u001b[0m\u001b[1;33m:\u001b[0m \u001b[0mw3\u001b[0m\u001b[1;33m.\u001b[0m\u001b[0meth\u001b[0m\u001b[1;33m.\u001b[0m\u001b[0maccounts\u001b[0m\u001b[1;33m[\u001b[0m\u001b[1;36m0\u001b[0m\u001b[1;33m]\u001b[0m\u001b[1;33m}\u001b[0m\u001b[1;33m)\u001b[0m\u001b[1;33m\u001b[0m\u001b[1;33m\u001b[0m\u001b[0m\n\u001b[0m\u001b[0;32m      5\u001b[0m \u001b[1;33m\u001b[0m\u001b[0m\n\u001b[0;32m      6\u001b[0m     \u001b[0mreceipt\u001b[0m \u001b[1;33m=\u001b[0m \u001b[0mw3\u001b[0m\u001b[1;33m.\u001b[0m\u001b[0meth\u001b[0m\u001b[1;33m.\u001b[0m\u001b[0mwaitForTransactionReceipt\u001b[0m\u001b[1;33m(\u001b[0m\u001b[0mtx_hash\u001b[0m\u001b[1;33m)\u001b[0m\u001b[1;33m\u001b[0m\u001b[1;33m\u001b[0m\u001b[0m\n",
      "\u001b[1;32m~\\anaconda3\\envs\\ethereum\\lib\\site-packages\\web3\\contract.py\u001b[0m in \u001b[0;36mtransact\u001b[1;34m(self, transaction)\u001b[0m\n\u001b[0;32m    988\u001b[0m             \u001b[1;32melse\u001b[0m\u001b[1;33m:\u001b[0m\u001b[1;33m\u001b[0m\u001b[1;33m\u001b[0m\u001b[0m\n\u001b[0;32m    989\u001b[0m                 raise ValueError(\n\u001b[1;32m--> 990\u001b[1;33m                     \u001b[1;34m\"Please ensure that this contract instance has an address.\"\u001b[0m\u001b[1;33m\u001b[0m\u001b[1;33m\u001b[0m\u001b[0m\n\u001b[0m\u001b[0;32m    991\u001b[0m                 )\n\u001b[0;32m    992\u001b[0m \u001b[1;33m\u001b[0m\u001b[0m\n",
      "\u001b[1;31mValueError\u001b[0m: Please ensure that this contract instance has an address."
     ]
    }
   ],
   "source": [
    "# test update_charity_event_approval\n",
    "update_charity_event_approval(1, False)"
   ]
  },
  {
   "cell_type": "code",
   "execution_count": 10,
   "metadata": {},
   "outputs": [
    {
     "data": {
      "text/plain": [
       "'0x324e401B75A3280514c682c8131Aa689c70Ce487'"
      ]
     },
     "execution_count": 10,
     "metadata": {},
     "output_type": "execute_result"
    }
   ],
   "source": []
  },
  {
   "cell_type": "code",
   "execution_count": null,
   "metadata": {},
   "outputs": [],
   "source": []
  }
 ],
 "metadata": {
  "kernelspec": {
   "display_name": "Python 3",
   "language": "python",
   "name": "python3"
  },
  "language_info": {
   "codemirror_mode": {
    "name": "ipython",
    "version": 3
   },
   "file_extension": ".py",
   "mimetype": "text/x-python",
   "name": "python",
   "nbconvert_exporter": "python",
   "pygments_lexer": "ipython3",
   "version": "3.7.7"
  }
 },
 "nbformat": 4,
 "nbformat_minor": 4
}
