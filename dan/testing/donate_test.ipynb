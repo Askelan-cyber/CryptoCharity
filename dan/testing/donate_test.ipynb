{
 "cells": [
  {
   "cell_type": "code",
   "execution_count": 1,
   "metadata": {},
   "outputs": [
    {
     "name": "stderr",
     "output_type": "stream",
     "text": [
      "Consider installing rusty-rlp to improve pyrlp performance with a rust based backend\n"
     ]
    },
    {
     "data": {
      "text/plain": [
       "True"
      ]
     },
     "execution_count": 1,
     "metadata": {},
     "output_type": "execute_result"
    }
   ],
   "source": [
    "from logging import error\n",
    "from web3.auto import w3\n",
    "import json\n",
    "import requests\n",
    "import os\n",
    "from dotenv import load_dotenv\n",
    "from datetime import datetime as dt\n",
    "\n",
    "load_dotenv()\n"
   ]
  },
  {
   "cell_type": "code",
   "execution_count": 2,
   "metadata": {},
   "outputs": [],
   "source": [
    "def init_contract(abi_path:str, contract_address:str):\n",
    "    \"\"\" Initialize a contract given the abi and address \"\"\"\n",
    "    with open(abi_path) as json_file:\n",
    "        abi = json.load(json_file)\n",
    "    return w3.eth.contract(address=contract_address, abi=abi)\n",
    "\n"
   ]
  },
  {
   "cell_type": "code",
   "execution_count": 3,
   "metadata": {},
   "outputs": [
    {
     "data": {
      "text/plain": [
       "'0x3729D6a0d46dC56F0758c8Bd5Ba758f7ECBc2E50'"
      ]
     },
     "execution_count": 3,
     "metadata": {},
     "output_type": "execute_result"
    }
   ],
   "source": [
    "os.getenv(\"CHARITY_MAKER_ADDRESS\")"
   ]
  },
  {
   "cell_type": "code",
   "execution_count": 4,
   "metadata": {},
   "outputs": [],
   "source": [
    "charity_contract = init_contract(\"CharityMakerABI.json\", os.getenv(\"CHARITY_MAKER_ADDRESS\"))\n"
   ]
  },
  {
   "cell_type": "code",
   "execution_count": 5,
   "metadata": {},
   "outputs": [],
   "source": [
    "headers = {\n",
    "    \"Content-Type\": \"application/json\",\n",
    "    \"pinata_api_key\": os.getenv(\"PINATA_API_KEY\"),\n",
    "    \"pinata_secret_api_key\": os.getenv(\"PINATA_SECRET_API_KEY\"),\n",
    "}"
   ]
  },
  {
   "cell_type": "code",
   "execution_count": 6,
   "metadata": {},
   "outputs": [],
   "source": [
    "def convertDataToJSON(content:dict):\n",
    "    data = {\n",
    "        \"pinataOptions\": {\"cidVersion\": 1},\n",
    "        \"pinataContent\": content,\n",
    "    }\n",
    "    return json.dumps(data)\n",
    "\n",
    "def pinJSONtoIPFS(json):\n",
    "    req = requests.post(\n",
    "        \"https://api.pinata.cloud/pinning/pinJSONToIPFS\", data=json, headers=headers\n",
    "    )\n",
    "    ipfs_hash = req.json()[\"IpfsHash\"]\n",
    "    return ipfs_hash\n"
   ]
  },
  {
   "cell_type": "code",
   "execution_count": 7,
   "metadata": {},
   "outputs": [],
   "source": [
    "def toDict(dictToParse):\n",
    "    # convert any 'AttributeDict' type found to 'dict'\n",
    "    parsedDict = dict(dictToParse)\n",
    "    for key, val in parsedDict.items():\n",
    "        # check for nested dict structures to iterate through\n",
    "        if  'dict' in str(type(val)).lower():\n",
    "            parsedDict[key] = toDict(val)\n",
    "        # convert 'HexBytes' type to 'str'\n",
    "        elif 'HexBytes' in str(type(val)):\n",
    "            parsedDict[key] = val.hex()\n",
    "    return parsedDict\n",
    "\n",
    "def get_charityEventID_from_URI(event_URI: str):\n",
    "    charity_event_reg_filter = charity_contract.events.charityEventRegistration.createFilter(fromBlock=\"0x0\", argument_filters={\"URI\": event_URI})\n",
    "    charity_event_registrations = charity_event_reg_filter.get_all_entries()\n",
    "    charity_event_registrations_dict = toDict(charity_event_registrations[0])\n",
    "    return charity_event_registrations_dict['args']['charityEventID']\n",
    "\n",
    "def register_charity_event(event_name: str, event_recipient: str, funding_goal: int, start_date, end_date):\n",
    "\n",
    "    # convert string start and end dates to datetime (if they aren't already datetime objects)\n",
    "    if not isinstance(start_date, dt):\n",
    "        start_date = dt.strptime(start_date, \"%Y/%m/%d\")  # 2020/01/26\n",
    "    if not isinstance(end_date, dt):\n",
    "        end_date = dt.strptime(end_date, \"%Y/%m/%d\")\n",
    "\n",
    "    # check if start_date is in the past and if so make the start_date today instead\n",
    "    # today = dt.strptime(dt.now(), \"%Y/%m/%d\")\n",
    "    today = dt.now()\n",
    "    if start_date < today:\n",
    "        start_date = today\n",
    "    \n",
    "    # check if end date is after start_date and return error if not\n",
    "    if start_date > end_date:\n",
    "        return error(f\"Error: End Date {end_date} is before Start Date {start_date}\")\n",
    "\n",
    "    # convert start and end datetimes to to unix timestamps\n",
    "    start_date = int(start_date.timestamp())\n",
    "    end_date = int(end_date.timestamp())\n",
    "\n",
    "    # create charity_info dict\n",
    "    charity_info = {\n",
    "        \"charityEventName\" : event_name,\n",
    "        # charityEventRecipient: event_recipient,\n",
    "        \"goalAmount\" : funding_goal\n",
    "    }\n",
    "\n",
    "    # convert charity_info to json_charity_info (json format) and pin to IPFS via pinata api function\n",
    "    json_charity_info = convertDataToJSON(charity_info)\n",
    "    ipfs_link = pinJSONtoIPFS(json_charity_info)\n",
    "\n",
    "    # create charity event in the block chain\n",
    "    tx_hash = charity_contract.functions.registerCharityEvent(event_recipient, start_date, end_date, ipfs_link).transact({\"from\": w3.eth.accounts[0]})\n",
    "    receipt  = w3.eth.waitForTransactionReceipt(tx_hash)\n",
    "    \n",
    "    # function registerCharityEvent(\n",
    "    #     address payable _charityEventAddress,\n",
    "    #     uint _startDate,\n",
    "    #     uint _endDate,\n",
    "    #     string memory _URI\n",
    "\n",
    "    \n",
    "    # lookup registerCharityEvent events, filtering by the newly created ipfs_link (URI) to cross reference and return the newly generated charity event id\n",
    "    charity_event_id = get_charityEventID_from_URI(ipfs_link)\n",
    "\n",
    "    return charity_event_id\n"
   ]
  },
  {
   "cell_type": "code",
   "execution_count": null,
   "metadata": {},
   "outputs": [],
   "source": []
  },
  {
   "cell_type": "code",
   "execution_count": 8,
   "metadata": {},
   "outputs": [],
   "source": [
    "# test register charity\n",
    "event_id = register_charity_event(\"Dan's best charity#3\", \"0x6b36C3CBFcD41C747305e540266AEe5a867f948A\", 200, \"2020/11/15\", \"2021/11/15\")\n"
   ]
  },
  {
   "cell_type": "code",
   "execution_count": 9,
   "metadata": {},
   "outputs": [
    {
     "data": {
      "text/plain": [
       "4"
      ]
     },
     "execution_count": 9,
     "metadata": {},
     "output_type": "execute_result"
    }
   ],
   "source": [
    "event_id"
   ]
  },
  {
   "cell_type": "code",
   "execution_count": 10,
   "metadata": {},
   "outputs": [],
   "source": [
    "def update_charity_event_approval(charity_event_id: int, is_approved: bool):\n",
    "    # call contract funtion to update approval\n",
    "    tx_hash = charity_contract.functions.updateCharityEventApproval(charity_event_id, is_approved)\\\n",
    "        .transact({\"from\": w3.eth.accounts[0]})\n",
    "\n",
    "    receipt = w3.eth.waitForTransactionReceipt(tx_hash)\n",
    "    return receipt"
   ]
  },
  {
   "cell_type": "code",
   "execution_count": null,
   "metadata": {},
   "outputs": [],
   "source": []
  },
  {
   "cell_type": "code",
   "execution_count": 11,
   "metadata": {},
   "outputs": [
    {
     "data": {
      "text/plain": [
       "AttributeDict({'transactionHash': HexBytes('0x3eddcca4b999c7ee70cc73d5cbd0331b9172e119e590f94f59544f382f44149b'),\n",
       " 'transactionIndex': 0,\n",
       " 'blockHash': HexBytes('0x0fe844e4199372b39c59f3fc37a89dbfc5a4c96aaf226f9628d191fc7e501738'),\n",
       " 'blockNumber': 123,\n",
       " 'from': '0x13C0fAd72f393A9ea42AE90c7a868f509cF13CD6',\n",
       " 'to': '0x3729D6a0d46dC56F0758c8Bd5Ba758f7ECBc2E50',\n",
       " 'gasUsed': 43544,\n",
       " 'cumulativeGasUsed': 43544,\n",
       " 'contractAddress': None,\n",
       " 'logs': [],\n",
       " 'status': 1,\n",
       " 'logsBloom': HexBytes('0x00000000000000000000000000000000000000000000000000000000000000000000000000000000000000000000000000000000000000000000000000000000000000000000000000000000000000000000000000000000000000000000000000000000000000000000000000000000000000000000000000000000000000000000000000000000000000000000000000000000000000000000000000000000000000000000000000000000000000000000000000000000000000000000000000000000000000000000000000000000000000000000000000000000000000000000000000000000000000000000000000000000000000000000000000000000')})"
      ]
     },
     "execution_count": 11,
     "metadata": {},
     "output_type": "execute_result"
    }
   ],
   "source": [
    "# test update_charity_event_approval\n",
    "update_charity_event_approval(4, True)"
   ]
  },
  {
   "cell_type": "code",
   "execution_count": null,
   "metadata": {},
   "outputs": [],
   "source": []
  },
  {
   "cell_type": "code",
   "execution_count": 12,
   "metadata": {},
   "outputs": [
    {
     "ename": "SyntaxError",
     "evalue": "invalid syntax (<ipython-input-12-6250f6d53bdf>, line 9)",
     "output_type": "error",
     "traceback": [
      "\u001b[1;36m  File \u001b[1;32m\"<ipython-input-12-6250f6d53bdf>\"\u001b[1;36m, line \u001b[1;32m9\u001b[0m\n\u001b[1;33m    \"startDate\":\u001b[0m\n\u001b[1;37m               ^\u001b[0m\n\u001b[1;31mSyntaxError\u001b[0m\u001b[1;31m:\u001b[0m invalid syntax\n"
     ]
    }
   ],
   "source": [
    "def get_charity_event(charity_event_id):\n",
    "    charity_event_filter = charity_contract.events.charityEventRegistration.createFilter(fromBlock=\"0x0\", argument_filters={\"charityEventID\": charity_event_id})\n",
    "    charity_events = charity_event_filter.get_all_entries()\n",
    "    charity_event_dict = toDict(charity_events[0])\n",
    "\n",
    "    charity_event_info = {\n",
    "        \"charityEventID\": charity_event_id,\n",
    "        \"charityEventAddress\": \n",
    "        \"startDate\":\n",
    "        \"endDate\":\n",
    "        \"isApproved\":\n",
    "        \"URI\":\n",
    "        \n",
    "    }\n",
    "    # address payable charityEventAddress;\n",
    "    # uint startDate;\n",
    "    # uint endDate;\n",
    "    # bool isApproved;\n",
    "    # string URI;\n",
    "\n",
    "    return charity_event_dict['args']['charityEventID']"
   ]
  },
  {
   "cell_type": "code",
   "execution_count": 14,
   "metadata": {},
   "outputs": [
    {
     "data": {
      "text/plain": [
       "'bafkreiew4vas3g3bi27bx4rblutplsholoaot24lsb3mzmhwwq3ibkunrm'"
      ]
     },
     "execution_count": 14,
     "metadata": {},
     "output_type": "execute_result"
    }
   ],
   "source": [
    "charity_event_filter = charity_contract.events.charityEventRegistration.createFilter(fromBlock=\"0x0\", argument_filters={\"charityEventID\": 4})\n",
    "charity_events = charity_event_filter.get_all_entries()\n",
    "charity_event_dict = toDict(charity_events[0])\n",
    "charity_event_dict['args']['URI']\n",
    "\n",
    "# sample http call\n",
    "# https://gateway.pinata.cloud/ipfs/bafkreiew4vas3g3bi27bx4rblutplsholoaot24lsb3mzmhwwq3ibkunrm"
   ]
  },
  {
   "cell_type": "code",
   "execution_count": 15,
   "metadata": {},
   "outputs": [],
   "source": [
    "# get JSON from IPFS\n",
    "response = requests.get(f\"https://gateway.pinata.cloud/ipfs/{charity_event_dict['args']['URI']}\")\n",
    "json_data = json.loads(response.text)"
   ]
  },
  {
   "cell_type": "code",
   "execution_count": null,
   "metadata": {},
   "outputs": [],
   "source": []
  }
 ],
 "metadata": {
  "kernelspec": {
   "display_name": "Python 3",
   "language": "python",
   "name": "python3"
  },
  "language_info": {
   "codemirror_mode": {
    "name": "ipython",
    "version": 3
   },
   "file_extension": ".py",
   "mimetype": "text/x-python",
   "name": "python",
   "nbconvert_exporter": "python",
   "pygments_lexer": "ipython3",
   "version": "3.7.7"
  }
 },
 "nbformat": 4,
 "nbformat_minor": 4
}
