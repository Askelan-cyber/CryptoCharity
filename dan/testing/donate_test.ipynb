{
 "cells": [
  {
   "cell_type": "code",
   "execution_count": 1,
   "metadata": {},
   "outputs": [
    {
     "name": "stderr",
     "output_type": "stream",
     "text": [
      "Consider installing rusty-rlp to improve pyrlp performance with a rust based backend\n"
     ]
    },
    {
     "data": {
      "text/plain": [
       "True"
      ]
     },
     "execution_count": 1,
     "metadata": {},
     "output_type": "execute_result"
    }
   ],
   "source": [
    "from logging import error\n",
    "from web3.auto import w3\n",
    "import json\n",
    "import requests\n",
    "import os\n",
    "from dotenv import load_dotenv\n",
    "from datetime import datetime as dt\n",
    "\n",
    "load_dotenv()\n"
   ]
  },
  {
   "cell_type": "code",
   "execution_count": 2,
   "metadata": {},
   "outputs": [],
   "source": [
    "def init_contract(abi_path:str, contract_address:str):\n",
    "    \"\"\" Initialize a contract given the abi and address \"\"\"\n",
    "    with open(abi_path) as json_file:\n",
    "        abi = json.load(json_file)\n",
    "    return w3.eth.contract(address=contract_address, abi=abi)\n",
    "\n"
   ]
  },
  {
   "cell_type": "code",
   "execution_count": 3,
   "metadata": {},
   "outputs": [
    {
     "data": {
      "text/plain": [
       "'0xeaF2D0E9A31448cDC39ed43491651b90C4d80D38'"
      ]
     },
     "execution_count": 3,
     "metadata": {},
     "output_type": "execute_result"
    }
   ],
   "source": [
    "os.getenv(\"CHARITY_MAKER_ADDRESS\")"
   ]
  },
  {
   "cell_type": "code",
   "execution_count": 4,
   "metadata": {},
   "outputs": [],
   "source": [
    "charity_contract = init_contract(\"CharityMakerABI.json\", os.getenv(\"CHARITY_MAKER_ADDRESS\"))\n"
   ]
  },
  {
   "cell_type": "code",
   "execution_count": 5,
   "metadata": {},
   "outputs": [],
   "source": [
    "headers = {\n",
    "    \"Content-Type\": \"application/json\",\n",
    "    \"pinata_api_key\": os.getenv(\"PINATA_API_KEY\"),\n",
    "    \"pinata_secret_api_key\": os.getenv(\"PINATA_SECRET_API_KEY\"),\n",
    "}"
   ]
  },
  {
   "cell_type": "code",
   "execution_count": 6,
   "metadata": {},
   "outputs": [],
   "source": [
    "def convertDataToJSON(content:dict):\n",
    "    data = {\n",
    "        \"pinataOptions\": {\"cidVersion\": 1},\n",
    "        \"pinataContent\": content,\n",
    "    }\n",
    "    return json.dumps(data)\n",
    "\n",
    "def pinJSONtoIPFS(json):\n",
    "    req = requests.post(\n",
    "        \"https://api.pinata.cloud/pinning/pinJSONToIPFS\", data=json, headers=headers\n",
    "    )\n",
    "    ipfs_hash = req.json()[\"IpfsHash\"]\n",
    "    return ipfs_hash\n"
   ]
  },
  {
   "cell_type": "code",
   "execution_count": 7,
   "metadata": {},
   "outputs": [],
   "source": [
    "def toDict(dictToParse):\n",
    "    # convert any 'AttributeDict' type found to 'dict'\n",
    "    parsedDict = dict(dictToParse)\n",
    "    for key, val in parsedDict.items():\n",
    "        # check for nested dict structures to iterate through\n",
    "        if  'dict' in str(type(val)).lower():\n",
    "            parsedDict[key] = toDict(val)\n",
    "        # convert 'HexBytes' type to 'str'\n",
    "        elif 'HexBytes' in str(type(val)):\n",
    "            parsedDict[key] = val.hex()\n",
    "    return parsedDict\n",
    "\n",
    "def get_charityEventID_from_URI(event_URI: str):\n",
    "    charity_event_reg_filter = charity_contract.events.charityEventRegistration.createFilter(fromBlock=\"0x0\", argument_filters={\"URI\": event_URI})\n",
    "    charity_event_registrations = charity_event_reg_filter.get_all_entries()\n",
    "    charity_event_registrations_dict = toDict(charity_event_registrations[0])\n",
    "    return charity_event_registrations_dict['args']['charityEventID']\n",
    "\n",
    "def register_charity_event(event_name: str, event_recipient: str, funding_goal: int, start_date, end_date):\n",
    "\n",
    "    # convert string start and end dates to datetime (if they aren't already datetime objects)\n",
    "    if not isinstance(start_date, dt):\n",
    "        start_date = dt.strptime(start_date, \"%Y/%m/%d\")  # 2020/01/26\n",
    "    if not isinstance(end_date, dt):\n",
    "        end_date = dt.strptime(end_date, \"%Y/%m/%d\")\n",
    "\n",
    "    # check if start_date is in the past and if so make the start_date today instead\n",
    "    # today = dt.strptime(dt.now(), \"%Y/%m/%d\")\n",
    "    today = dt.now()\n",
    "    if start_date < today:\n",
    "        start_date = today\n",
    "    \n",
    "    # check if end date is after start_date and return error if not\n",
    "    if start_date > end_date:\n",
    "        return error(f\"Error: End Date {end_date} is before Start Date {start_date}\")\n",
    "\n",
    "    # convert start and end datetimes to to unix timestamps\n",
    "    start_date = int(start_date.timestamp())\n",
    "    end_date = int(end_date.timestamp())\n",
    "\n",
    "    # create charity_info dict\n",
    "    charity_info = {\n",
    "        \"charityEventName\" : event_name,\n",
    "        # charityEventRecipient: event_recipient,\n",
    "        \"goalAmount\" : funding_goal\n",
    "    }\n",
    "\n",
    "    # convert charity_info to json_charity_info (json format) and pin to IPFS via pinata api function\n",
    "    json_charity_info = convertDataToJSON(charity_info)\n",
    "    ipfs_link = pinJSONtoIPFS(json_charity_info)\n",
    "\n",
    "    # create charity event in the block chain\n",
    "    tx_hash = charity_contract.functions.registerCharityEvent(event_recipient, start_date, end_date, ipfs_link).transact({\"from\": w3.eth.accounts[0]})\n",
    "    receipt  = w3.eth.waitForTransactionReceipt(tx_hash)\n",
    "    \n",
    "    # function registerCharityEvent(\n",
    "    #     address payable _charityEventAddress,\n",
    "    #     uint _startDate,\n",
    "    #     uint _endDate,\n",
    "    #     string memory _URI\n",
    "\n",
    "    \n",
    "    # lookup registerCharityEvent events, filtering by the newly created ipfs_link (URI) to cross reference and return the newly generated charity event id\n",
    "    charity_event_id = get_charityEventID_from_URI(ipfs_link)\n",
    "\n",
    "    return charity_event_id\n"
   ]
  },
  {
   "cell_type": "code",
   "execution_count": null,
   "metadata": {},
   "outputs": [],
   "source": []
  },
  {
   "cell_type": "code",
   "execution_count": 8,
   "metadata": {},
   "outputs": [],
   "source": [
    "# test register charity\n",
    "event_id = register_charity_event(\"Dan's best charity#1\", \"0x6b36C3CBFcD41C747305e540266AEe5a867f948A\", 200, \"2020/11/15\", \"2021/11/15\")\n"
   ]
  },
  {
   "cell_type": "code",
   "execution_count": 9,
   "metadata": {},
   "outputs": [
    {
     "data": {
      "text/plain": [
       "1"
      ]
     },
     "execution_count": 9,
     "metadata": {},
     "output_type": "execute_result"
    }
   ],
   "source": [
    "event_id"
   ]
  },
  {
   "cell_type": "code",
   "execution_count": 10,
   "metadata": {},
   "outputs": [],
   "source": [
    "def update_charity_event_approval(charity_event_id: int, is_approved: bool):\n",
    "    # call contract funtion to update approval\n",
    "    tx_hash = charity_contract.functions.updateCharityEventApproval(charity_event_id, is_approved)\\\n",
    "        .transact({\"from\": w3.eth.accounts[0]})\n",
    "\n",
    "    receipt = w3.eth.waitForTransactionReceipt(tx_hash)\n",
    "    return receipt"
   ]
  },
  {
   "cell_type": "code",
   "execution_count": null,
   "metadata": {},
   "outputs": [],
   "source": []
  },
  {
   "cell_type": "code",
   "execution_count": 11,
   "metadata": {},
   "outputs": [
    {
     "data": {
      "text/plain": [
       "AttributeDict({'transactionHash': HexBytes('0xb3f6b822a946b36721dc40102ca87131489883601eb2fad0590139f444206312'),\n",
       " 'transactionIndex': 0,\n",
       " 'blockHash': HexBytes('0x5ea6c15fe0fd75bf9c0e441977b6b0e6138cc0f9c77f3e607376b5392541db6a'),\n",
       " 'blockNumber': 126,\n",
       " 'from': '0x13C0fAd72f393A9ea42AE90c7a868f509cF13CD6',\n",
       " 'to': '0xeaF2D0E9A31448cDC39ed43491651b90C4d80D38',\n",
       " 'gasUsed': 43522,\n",
       " 'cumulativeGasUsed': 43522,\n",
       " 'contractAddress': None,\n",
       " 'logs': [],\n",
       " 'status': 1,\n",
       " 'logsBloom': HexBytes('0x00000000000000000000000000000000000000000000000000000000000000000000000000000000000000000000000000000000000000000000000000000000000000000000000000000000000000000000000000000000000000000000000000000000000000000000000000000000000000000000000000000000000000000000000000000000000000000000000000000000000000000000000000000000000000000000000000000000000000000000000000000000000000000000000000000000000000000000000000000000000000000000000000000000000000000000000000000000000000000000000000000000000000000000000000000000')})"
      ]
     },
     "execution_count": 11,
     "metadata": {},
     "output_type": "execute_result"
    }
   ],
   "source": [
    "# test update_charity_event_approval\n",
    "update_charity_event_approval(1, True)"
   ]
  },
  {
   "cell_type": "code",
   "execution_count": null,
   "metadata": {},
   "outputs": [],
   "source": []
  },
  {
   "cell_type": "code",
   "execution_count": 13,
   "metadata": {},
   "outputs": [
    {
     "data": {
      "text/plain": [
       "'bafkreif3bgfrs63jtww4k5lcju3sr66owy7orywthqxdulh7gcbs3gyu7q'"
      ]
     },
     "execution_count": 13,
     "metadata": {},
     "output_type": "execute_result"
    }
   ],
   "source": [
    "charity_event_filter = charity_contract.events.charityEventRegistration.createFilter(fromBlock=\"0x0\", argument_filters={\"charityEventID\": 1})\n",
    "charity_events = charity_event_filter.get_all_entries()\n",
    "charity_event_dict = toDict(charity_events[0])\n",
    "charity_event_dict['args']['URI']\n",
    "\n",
    "# sample http call\n",
    "# https://gateway.pinata.cloud/ipfs/bafkreiew4vas3g3bi27bx4rblutplsholoaot24lsb3mzmhwwq3ibkunrm"
   ]
  },
  {
   "cell_type": "code",
   "execution_count": 14,
   "metadata": {},
   "outputs": [],
   "source": [
    "# get JSON from IPFS\n",
    "def getJSONfromPinata(ipfs_hash):\n",
    "#     response = requests.get(f\"https://gateway.pinata.cloud/ipfs/{charity_event_dict['args']['URI']}\")\n",
    "#     json_data = json.loads(response.text)\n",
    "    response = requests.get(f\"https://gateway.pinata.cloud/ipfs/{ipfs_hash}\")\n",
    "    return json.loads(response.text)"
   ]
  },
  {
   "cell_type": "code",
   "execution_count": 16,
   "metadata": {},
   "outputs": [],
   "source": [
    "json_data = getJSONfromPinata(\"bafkreiew4vas3g3bi27bx4rblutplsholoaot24lsb3mzmhwwq3ibkunrm\")"
   ]
  },
  {
   "cell_type": "code",
   "execution_count": 17,
   "metadata": {},
   "outputs": [
    {
     "data": {
      "text/plain": [
       "(dict, {'charityEventName': \"Dan's best charity#3\", 'goalAmount': 200})"
      ]
     },
     "execution_count": 17,
     "metadata": {},
     "output_type": "execute_result"
    }
   ],
   "source": [
    "type(json_data), json_data"
   ]
  },
  {
   "cell_type": "code",
   "execution_count": null,
   "metadata": {},
   "outputs": [],
   "source": []
  },
  {
   "cell_type": "code",
   "execution_count": 23,
   "metadata": {},
   "outputs": [],
   "source": [
    "### testing solidity getter function call\n",
    "# charity_event_filter = charity_contract.events.charityEventRegistration.createFilter(fromBlock=\"0x0\", argument_filters={\"charityEventID\": charity_event_id})\n",
    "# charity_events = charity_event_filter.get_all_entries()\n",
    "# charity_event_dict = toDict(charity_events[0])\n",
    "charity_event_filter = charity_contract.functions.getCharityEventInfo(1).call()\n",
    "# charity_events = charity_event_filter.get_all_entries()\n",
    "#charity_event_dict = toDict(charity_events[0])\n",
    "\n",
    "#charity_event_dict['args']['charityEventAddress']\n",
    "\n",
    "# charityBook"
   ]
  },
  {
   "cell_type": "code",
   "execution_count": 33,
   "metadata": {},
   "outputs": [
    {
     "name": "stdout",
     "output_type": "stream",
     "text": [
      "bafkreif3bgfrs63jtww4k5lcju3sr66owy7orywthqxdulh7gcbs3gyu7q <class 'str'>\n"
     ]
    }
   ],
   "source": [
    "# test output\n",
    "print(f\"{charity_event_filter[5]} {type(charity_event_filter[5])}\")"
   ]
  },
  {
   "cell_type": "code",
   "execution_count": 55,
   "metadata": {},
   "outputs": [
    {
     "data": {
      "text/plain": [
       "{'args': {'donorName': 'Cheapskate',\n",
       "  'donorAmount': 250000000000000000,\n",
       "  'charityEventID': 1},\n",
       " 'event': 'Donate',\n",
       " 'logIndex': 0,\n",
       " 'transactionIndex': 0,\n",
       " 'transactionHash': '0x8b64d3fc02d5e7cf7a98cb3b9189118535d0bee40237889bfda98df5905d7ff0',\n",
       " 'address': '0xeaF2D0E9A31448cDC39ed43491651b90C4d80D38',\n",
       " 'blockHash': '0x6170bea7c16033ebc8dd3c0a5725c24143f2515a3e93b027fa9365732d08531c',\n",
       " 'blockNumber': 129}"
      ]
     },
     "execution_count": 55,
     "metadata": {},
     "output_type": "execute_result"
    }
   ],
   "source": [
    "### testing solidty donations event call\n",
    "donations = charity_contract.events.Donate.createFilter(fromBlock=\"0x0\", argument_filters={\"charityEventID\": 1})\n",
    "donations_filter = donations.get_all_entries()\n",
    "# donations_list = toDict(donations_filter[0])\n",
    "# donations_filter\n",
    "# donations_dict\n",
    "\n",
    "donations_list = []\n",
    "for donation in donations_filter:\n",
    "    donations_list.append(toDict(donation))\n",
    "    \n",
    "donations_list[-1]\n"
   ]
  },
  {
   "cell_type": "code",
   "execution_count": 57,
   "metadata": {},
   "outputs": [
    {
     "data": {
      "text/plain": [
       "1750000000000000000"
      ]
     },
     "execution_count": 57,
     "metadata": {},
     "output_type": "execute_result"
    }
   ],
   "source": [
    "### test summing donations\n",
    "total_donations = 0\n",
    "for donation in donations_list:\n",
    "    total_donations += donation['args']['donorAmount']\n",
    "\n",
    "total_donations"
   ]
  },
  {
   "cell_type": "code",
   "execution_count": 58,
   "metadata": {},
   "outputs": [],
   "source": [
    "def get_total_donations(charity_event_id):\n",
    "    donations = charity_contract.events.Donate.createFilter(fromBlock=\"0x0\", argument_filters={\"charityEventID\": charity_event_id})\n",
    "    donations_filter = donations.get_all_entries()\n",
    "\n",
    "    # loop through solidity returned list of objects and convert to list of dicts\n",
    "    donations_list = []\n",
    "    for donation in donations_filter:\n",
    "        donations_list.append(toDict(donation))\n",
    "\n",
    "    # loop through donations_list and add up donorAmount from each donation\n",
    "    total_donations = 0\n",
    "    for donation in donations_list:\n",
    "        total_donations += donation['args']['donorAmount']\n",
    "        \n",
    "    return total_donations"
   ]
  },
  {
   "cell_type": "code",
   "execution_count": 59,
   "metadata": {},
   "outputs": [],
   "source": [
    "def get_charity_event(charity_event_id):\n",
    "#     donations = charity_contract.events.Donate.createFilter(fromBlock=\"0x0\", argument_filters={\"charityEventID\": charity_event_id})\n",
    "#     donations_filter = charity_event_filter.get_all_entries()\n",
    "#     donations_dict = toDict(donations_filter[0])\n",
    "\n",
    "    solidity_info = charity_contract.functions.getCharityEventInfo(charity_event_id).call()\n",
    "\n",
    "    ipfs_hash = solidity_info[5]\n",
    "    charity_ipfs_data = getJSONfromPinata(ipfs_hash)\n",
    "\n",
    "    # [1,\n",
    "    #  '0x6b36C3CBFcD41C747305e540266AEe5a867f948A',\n",
    "    #  1605475468,\n",
    "    #  1636956000,\n",
    "    #  True,\n",
    "    #  'bafkreif3bgfrs63jtww4k5lcju3sr66owy7orywthqxdulh7gcbs3gyu7q']\n",
    "    \n",
    "    charity_event_info = {\n",
    "        \"charityEventName\": charity_ipfs_data['charityEventName'],\n",
    "        \"charityEventID\": charity_event_id,\n",
    "        \"charityEventAddress\": solidity_info[1],\n",
    "        \"startDate\": dt.utcfromtimestamp(solidity_info[2]).strftime('%Y/%m/%d'),\n",
    "        \"endDate\": dt.utcfromtimestamp(solidity_info[3]).strftime('%Y/%m/%d'),\n",
    "        \"goalAmount\": charity_ipfs_data['goalAmount'],\n",
    "        \"totalDonations\": get_total_donations(charity_event_id),\n",
    "        \"isApproved\": solidity_info[4],\n",
    "        \"ipfsHash\": solidity_info[5],\n",
    "        \"ipfsLink\": f\"https://gateway.pinata.cloud/ipfs/{ipfs_hash}\"\n",
    "    }\n",
    "\n",
    "    return charity_event_info"
   ]
  },
  {
   "cell_type": "code",
   "execution_count": 60,
   "metadata": {},
   "outputs": [],
   "source": [
    "event3_info = get_charity_event(1)"
   ]
  },
  {
   "cell_type": "code",
   "execution_count": 61,
   "metadata": {},
   "outputs": [
    {
     "data": {
      "text/plain": [
       "{'charityEventName': \"Dan's best charity#1\",\n",
       " 'charityEventID': 1,\n",
       " 'charityEventAddress': '0x6b36C3CBFcD41C747305e540266AEe5a867f948A',\n",
       " 'startDate': '2020/11/15',\n",
       " 'endDate': '2021/11/15',\n",
       " 'goalAmount': 200,\n",
       " 'totalDonations': 1750000000000000000,\n",
       " 'isApproved': True,\n",
       " 'ipfsHash': 'bafkreif3bgfrs63jtww4k5lcju3sr66owy7orywthqxdulh7gcbs3gyu7q',\n",
       " 'ipfsLink': 'https://gateway.pinata.cloud/ipfs/bafkreif3bgfrs63jtww4k5lcju3sr66owy7orywthqxdulh7gcbs3gyu7q'}"
      ]
     },
     "execution_count": 61,
     "metadata": {},
     "output_type": "execute_result"
    }
   ],
   "source": [
    "event3_info"
   ]
  },
  {
   "cell_type": "code",
   "execution_count": null,
   "metadata": {},
   "outputs": [],
   "source": []
  }
 ],
 "metadata": {
  "kernelspec": {
   "display_name": "Python 3",
   "language": "python",
   "name": "python3"
  },
  "language_info": {
   "codemirror_mode": {
    "name": "ipython",
    "version": 3
   },
   "file_extension": ".py",
   "mimetype": "text/x-python",
   "name": "python",
   "nbconvert_exporter": "python",
   "pygments_lexer": "ipython3",
   "version": "3.7.7"
  }
 },
 "nbformat": 4,
 "nbformat_minor": 4
}
