{
 "cells": [
  {
   "cell_type": "code",
   "execution_count": 1,
   "metadata": {},
   "outputs": [
    {
     "name": "stderr",
     "output_type": "stream",
     "text": [
      "Consider installing rusty-rlp to improve pyrlp performance with a rust based backend\n"
     ]
    },
    {
     "data": {
      "text/plain": [
       "True"
      ]
     },
     "execution_count": 1,
     "metadata": {},
     "output_type": "execute_result"
    }
   ],
   "source": [
    "from logging import error\n",
    "from web3.auto import w3\n",
    "import json\n",
    "import requests\n",
    "import os\n",
    "from dotenv import load_dotenv\n",
    "from datetime import datetime as dt\n",
    "\n",
    "load_dotenv()\n"
   ]
  },
  {
   "cell_type": "code",
   "execution_count": 2,
   "metadata": {},
   "outputs": [],
   "source": [
    "# get contract address from .env\n",
    "contract_addr = os.getenv(\"TEST_CONTRACT_ADDRESS\")\n",
    "# contract_addr = os.getenv(\"DAN_ROOT_ADDRESS\")\n",
    "# contract_addr = os.getenv(\"GANACHE_PRIVATE_KEY\")"
   ]
  },
  {
   "cell_type": "code",
   "execution_count": 3,
   "metadata": {},
   "outputs": [
    {
     "data": {
      "text/plain": [
       "'0xc9A18bbA5098Aaf0d88C470B391FB8ec20Ae36d2'"
      ]
     },
     "execution_count": 3,
     "metadata": {},
     "output_type": "execute_result"
    }
   ],
   "source": [
    "contract_addr"
   ]
  },
  {
   "cell_type": "code",
   "execution_count": 4,
   "metadata": {},
   "outputs": [],
   "source": [
    "# set ABI path\n",
    "abi_file = \"web3TransactTestABI.json\""
   ]
  },
  {
   "cell_type": "code",
   "execution_count": 5,
   "metadata": {},
   "outputs": [],
   "source": [
    "# open abi file and load as json format\n",
    "with open(abi_file) as json_file:\n",
    "    abi_data = json.load(json_file)"
   ]
  },
  {
   "cell_type": "code",
   "execution_count": 6,
   "metadata": {},
   "outputs": [
    {
     "name": "stdout",
     "output_type": "stream",
     "text": [
      "[{'anonymous': False, 'inputs': [{'indexed': False, 'internalType': 'uint256', 'name': 'TestEventID', 'type': 'uint256'}, {'indexed': False, 'internalType': 'string', 'name': 'testText', 'type': 'string'}], 'name': 'testEmit', 'type': 'event'}, {'anonymous': False, 'inputs': [{'indexed': False, 'internalType': 'uint256', 'name': 'TestEventID', 'type': 'uint256'}, {'indexed': False, 'internalType': 'uint256', 'name': 'createDate', 'type': 'uint256'}, {'indexed': False, 'internalType': 'string', 'name': 'URI', 'type': 'string'}], 'name': 'testEventRegistration', 'type': 'event'}, {'constant': False, 'inputs': [{'internalType': 'uint256', 'name': '_createDate', 'type': 'uint256'}, {'internalType': 'string', 'name': '_URI', 'type': 'string'}], 'name': 'registerTestEvent', 'outputs': [{'internalType': 'uint256', 'name': '', 'type': 'uint256'}], 'payable': False, 'stateMutability': 'nonpayable', 'type': 'function'}, {'constant': False, 'inputs': [{'internalType': 'string', 'name': '_testText', 'type': 'string'}], 'name': 'testEmitEvent', 'outputs': [], 'payable': False, 'stateMutability': 'nonpayable', 'type': 'function'}, {'constant': True, 'inputs': [{'internalType': 'uint256', 'name': '', 'type': 'uint256'}], 'name': 'testEvents', 'outputs': [{'internalType': 'uint256', 'name': 'createDate', 'type': 'uint256'}, {'internalType': 'string', 'name': 'URI', 'type': 'string'}], 'payable': False, 'stateMutability': 'view', 'type': 'function'}]\n"
     ]
    }
   ],
   "source": [
    "print(abi_data)"
   ]
  },
  {
   "cell_type": "raw",
   "metadata": {},
   "source": []
  },
  {
   "cell_type": "code",
   "execution_count": 7,
   "metadata": {},
   "outputs": [],
   "source": [
    "# init eth contract\n",
    "test_contract = w3.eth.contract(address=contract_addr, abi=abi_data)"
   ]
  },
  {
   "cell_type": "code",
   "execution_count": 8,
   "metadata": {},
   "outputs": [],
   "source": [
    "# Pinata IPFS functionality\n",
    "pinata_headers = {\n",
    "    \"Content-Type\": \"application/json\",\n",
    "    \"pinata_api_key\": os.getenv(\"PINATA_API_KEY\"),\n",
    "    \"pinata_secret_api_key\": os.getenv(\"PINATA_SECRET_API_KEY\"),\n",
    "}\n",
    "\n",
    "def convertDataToJSON(content:dict):\n",
    "    data = {\n",
    "        \"pinataOptions\": {\"cidVersion\": 1},\n",
    "        \"pinataContent\": content,\n",
    "    }\n",
    "    return json.dumps(data)\n",
    "\n",
    "def pinJSONtoIPFS(json):\n",
    "    req = requests.post(\n",
    "        \"https://api.pinata.cloud/pinning/pinJSONToIPFS\", data=json, headers=pinata_headers\n",
    "    )\n",
    "    ipfs_hash = req.json()[\"IpfsHash\"]\n",
    "    return f\"ipfs://{ipfs_hash}\""
   ]
  },
  {
   "cell_type": "code",
   "execution_count": null,
   "metadata": {},
   "outputs": [],
   "source": []
  },
  {
   "cell_type": "code",
   "execution_count": 9,
   "metadata": {},
   "outputs": [],
   "source": [
    "def get_testEventID_from_URI(event_URI: str):\n",
    "    test_event_reg_filter = test_contract.events.testEventRegistration.createFilter(fromBlock=\"0x0\", argument_filters={\"URI\": event_URI})\n",
    "    test_event_registrations = test_event_reg_filter.get_all_entries()\n",
    "    return test_event_registrations[0].TestEventID\n",
    "\n",
    "def register_test_event(event_name: str, event_recipient: str, funding_goal: int, create_date):\n",
    "\n",
    "    # convert string start and end dates to datetime (if they aren't already datetime objects)\n",
    "    if not isinstance(create_date, dt):\n",
    "        create_date = dt.strptime(create_date, \"%Y/%m/%d\")\n",
    "\n",
    "    # convert start and end datetimes to to unix timestamps\n",
    "    create_date = create_date.timestamp()\n",
    "\n",
    "    # create charity_info dict\n",
    "    test_event_info = {\n",
    "        \"testEventName\": event_name,\n",
    "        # charityEventRecipient: event_recipient,\n",
    "        \"goalAmount\": funding_goal\n",
    "    }\n",
    "\n",
    "    # convert charity_info to json_charity_info (json format) and pin to IPFS via pinata api function\n",
    "    json_event_info = convertDataToJSON(test_event_info)\n",
    "    ipfs_link = pinJSONtoIPFS(json_event_info)\n",
    "\n",
    "    tx_hash = test_contract.functions.registerTestEvent(int(create_date), ipfs_link).transact({\"from\": w3.eth.accounts[0]})\n",
    "    receipt  = w3.eth.waitForTransactionReceipt(tx_hash)\n",
    "\n",
    "    # test_event_id = get_testEventID_from_URI(ipfs_link)\n",
    "    # charity_event_id = int(receipt['logs'][0]['data'])\n",
    "\n",
    "    # return test_event_id\n",
    "    return receipt"
   ]
  },
  {
   "cell_type": "code",
   "execution_count": null,
   "metadata": {},
   "outputs": [],
   "source": [
    "# function registerTestEvent(uint _createDate, string memory _URI)\n",
    "# event testEventRegistration(\n",
    "#    uint TestEventID,\n",
    "#    uint createDate,\n",
    "#    string URI \n",
    "# );\n"
   ]
  },
  {
   "cell_type": "code",
   "execution_count": 13,
   "metadata": {},
   "outputs": [],
   "source": [
    "def get_testEventID_from_URI(event_URI: str):\n",
    "    test_event_reg_filter = test_contract.events.testEventRegistration.createFilter(fromBlock=\"0x0\", argument_filters={\"URI\": event_URI})\n",
    "    test_event_registrations = test_event_reg_filter.get_all_entries()\n",
    "    return test_event_registrations[0].TestEventID"
   ]
  },
  {
   "cell_type": "code",
   "execution_count": 11,
   "metadata": {},
   "outputs": [],
   "source": [
    "# test register_test_event\n",
    "event_receipt = register_test_event(\"Dan Test Event1\", \"no recipient\", 100, \"2020/11/14\")"
   ]
  },
  {
   "cell_type": "code",
   "execution_count": null,
   "metadata": {},
   "outputs": [],
   "source": []
  },
  {
   "cell_type": "code",
   "execution_count": 12,
   "metadata": {},
   "outputs": [
    {
     "data": {
      "text/plain": [
       "AttributeDict({'transactionHash': HexBytes('0x4aa64fb1364b02053ea961e4fd5b34e5d7d9ac49e381fb2f88a14ae07ae5f89a'),\n",
       " 'transactionIndex': 0,\n",
       " 'blockHash': HexBytes('0xaadbca8f9b22b447591b1db81cab1afc7976d5ef53e3f1201b34f59a13d995ce'),\n",
       " 'blockNumber': 94,\n",
       " 'from': '0x13C0fAd72f393A9ea42AE90c7a868f509cF13CD6',\n",
       " 'to': '0xc9A18bbA5098Aaf0d88C470B391FB8ec20Ae36d2',\n",
       " 'gasUsed': 149822,\n",
       " 'cumulativeGasUsed': 149822,\n",
       " 'contractAddress': None,\n",
       " 'logs': [AttributeDict({'logIndex': 0,\n",
       "   'transactionIndex': 0,\n",
       "   'transactionHash': HexBytes('0x4aa64fb1364b02053ea961e4fd5b34e5d7d9ac49e381fb2f88a14ae07ae5f89a'),\n",
       "   'blockHash': HexBytes('0xaadbca8f9b22b447591b1db81cab1afc7976d5ef53e3f1201b34f59a13d995ce'),\n",
       "   'blockNumber': 94,\n",
       "   'address': '0xc9A18bbA5098Aaf0d88C470B391FB8ec20Ae36d2',\n",
       "   'data': '0x0000000000000000000000000000000000000000000000000000000000000001000000000000000000000000000000000000000000000000000000005faf726000000000000000000000000000000000000000000000000000000000000000600000000000000000000000000000000000000000000000000000000000000042697066733a2f2f6261666b7265696372786e336e6f64716d36736b696e61747a3437346f746c6d67656f7176686164336175736770756e7872796a79677972693671000000000000000000000000000000000000000000000000000000000000',\n",
       "   'topics': [HexBytes('0x3f95d34f2e145435aa783215b5f25ddbfb9432b4d50773d5ec7a102b811f25ea')],\n",
       "   'type': 'mined'})],\n",
       " 'status': 1,\n",
       " 'logsBloom': HexBytes('0x00000000020400000000000000000000000000000000000000000000000000000000000000000000000000000000000000000000000000000000000000000000000000000000000000000000000000000000000000000000000000100000000000000000000000000000000000000000000000000000000000000000000000000000000000080000000000000000000000000000000000000000000000000000000000000000000000000000000000000000000000000000000000000000000000000000001000000000000000000000000000000000000000000000000000000000000100000000000000000000000000000000000000000000000000000000')})"
      ]
     },
     "execution_count": 12,
     "metadata": {},
     "output_type": "execute_result"
    }
   ],
   "source": [
    "event_receipt"
   ]
  },
  {
   "cell_type": "code",
   "execution_count": 22,
   "metadata": {},
   "outputs": [],
   "source": [
    "# event_registration = get_testEventID_from_URI(\"Dan Test Event1\")\n",
    "# test_event_reg_filter = test_contract.events.testEventRegistration.createFilter(fromBlock=\"0x0\", argument_filters={\"URI\": \"Dan Test Event1\"})\n",
    "test_event_reg_filter = test_contract.events.testEventRegistration.createFilter(fromBlock=\"0x0\", argument_filters={'URI': 'ipfs://bafkreicrxn3nodqm6skinatz474otlmgeoqvhad3ausgpunxryjygyri6q'})\n",
    "test_event_registrations = test_event_reg_filter.get_all_entries()"
   ]
  },
  {
   "cell_type": "code",
   "execution_count": 26,
   "metadata": {},
   "outputs": [
    {
     "data": {
      "text/plain": [
       "AttributeDict({'args': AttributeDict({'TestEventID': 1,\n",
       "  'createDate': 1605333600,\n",
       "  'URI': 'ipfs://bafkreicrxn3nodqm6skinatz474otlmgeoqvhad3ausgpunxryjygyri6q'}),\n",
       " 'event': 'testEventRegistration',\n",
       " 'logIndex': 0,\n",
       " 'transactionIndex': 0,\n",
       " 'transactionHash': HexBytes('0x4aa64fb1364b02053ea961e4fd5b34e5d7d9ac49e381fb2f88a14ae07ae5f89a'),\n",
       " 'address': '0xc9A18bbA5098Aaf0d88C470B391FB8ec20Ae36d2',\n",
       " 'blockHash': HexBytes('0xaadbca8f9b22b447591b1db81cab1afc7976d5ef53e3f1201b34f59a13d995ce'),\n",
       " 'blockNumber': 94})"
      ]
     },
     "execution_count": 26,
     "metadata": {},
     "output_type": "execute_result"
    }
   ],
   "source": [
    "test_event_registrations[0]"
   ]
  },
  {
   "cell_type": "code",
   "execution_count": 49,
   "metadata": {},
   "outputs": [
    {
     "data": {
      "text/plain": [
       "web3.datastructures.AttributeDict"
      ]
     },
     "execution_count": 49,
     "metadata": {},
     "output_type": "execute_result"
    }
   ],
   "source": [
    "type(test_event_registrations[0])"
   ]
  },
  {
   "cell_type": "code",
   "execution_count": 50,
   "metadata": {},
   "outputs": [],
   "source": [
    "from pprint import pprint"
   ]
  },
  {
   "cell_type": "code",
   "execution_count": 51,
   "metadata": {},
   "outputs": [],
   "source": [
    "from hexbytes import HexBytes\n",
    "\n",
    "def toDict(dictToParse):\n",
    "    # convert any 'AttributeDict' type found to 'dict'\n",
    "    parsedDict = dict(dictToParse)\n",
    "    for key, val in parsedDict.items():\n",
    "        # check for nested dict structures to iterate through\n",
    "        if  'dict' in str(type(val)).lower():\n",
    "            parsedDict[key] = toDict(val)\n",
    "        # convert 'HexBytes' type to 'str'\n",
    "        elif 'HexBytes' in str(type(val)):\n",
    "            parsedDict[key] = val.hex()\n",
    "    return parsedDict"
   ]
  },
  {
   "cell_type": "code",
   "execution_count": 55,
   "metadata": {},
   "outputs": [],
   "source": [
    "test_event_registrations_dict = toDict(test_event_registrations[0])"
   ]
  },
  {
   "cell_type": "code",
   "execution_count": 57,
   "metadata": {},
   "outputs": [],
   "source": [
    "test_event_registrations_json = json.dumps(test_event_registrations_dict)\n"
   ]
  },
  {
   "cell_type": "code",
   "execution_count": 59,
   "metadata": {},
   "outputs": [
    {
     "name": "stdout",
     "output_type": "stream",
     "text": [
      "('{\"args\": {\"TestEventID\": 1, \"createDate\": 1605333600, \"URI\": '\n",
      " '\"ipfs://bafkreicrxn3nodqm6skinatz474otlmgeoqvhad3ausgpunxryjygyri6q\"}, '\n",
      " '\"event\": \"testEventRegistration\", \"logIndex\": 0, \"transactionIndex\": 0, '\n",
      " '\"transactionHash\": '\n",
      " '\"0x4aa64fb1364b02053ea961e4fd5b34e5d7d9ac49e381fb2f88a14ae07ae5f89a\", '\n",
      " '\"address\": \"0xc9A18bbA5098Aaf0d88C470B391FB8ec20Ae36d2\", \"blockHash\": '\n",
      " '\"0xaadbca8f9b22b447591b1db81cab1afc7976d5ef53e3f1201b34f59a13d995ce\", '\n",
      " '\"blockNumber\": 94}')\n"
     ]
    }
   ],
   "source": [
    "pprint(test_event_registrations_json)"
   ]
  },
  {
   "cell_type": "code",
   "execution_count": 66,
   "metadata": {},
   "outputs": [
    {
     "data": {
      "text/plain": [
       "1"
      ]
     },
     "execution_count": 66,
     "metadata": {},
     "output_type": "execute_result"
    }
   ],
   "source": [
    "test_event_registrations_dict['args']['TestEventID']"
   ]
  },
  {
   "cell_type": "code",
   "execution_count": 64,
   "metadata": {},
   "outputs": [],
   "source": []
  },
  {
   "cell_type": "code",
   "execution_count": null,
   "metadata": {},
   "outputs": [],
   "source": []
  }
 ],
 "metadata": {
  "kernelspec": {
   "display_name": "Python 3",
   "language": "python",
   "name": "python3"
  },
  "language_info": {
   "codemirror_mode": {
    "name": "ipython",
    "version": 3
   },
   "file_extension": ".py",
   "mimetype": "text/x-python",
   "name": "python",
   "nbconvert_exporter": "python",
   "pygments_lexer": "ipython3",
   "version": "3.7.7"
  }
 },
 "nbformat": 4,
 "nbformat_minor": 4
}
